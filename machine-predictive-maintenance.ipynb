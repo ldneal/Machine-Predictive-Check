{
 "cells": [
  {
   "cell_type": "code",
   "execution_count": 1,
   "id": "0a97cfd9",
   "metadata": {
    "_cell_guid": "b1076dfc-b9ad-4769-8c92-a6c4dae69d19",
    "_uuid": "8f2839f25d086af736a60e9eeb907d3b93b6e0e5",
    "execution": {
     "iopub.execute_input": "2024-07-13T15:26:31.996579Z",
     "iopub.status.busy": "2024-07-13T15:26:31.996100Z",
     "iopub.status.idle": "2024-07-13T15:26:34.295051Z",
     "shell.execute_reply": "2024-07-13T15:26:34.293748Z"
    },
    "papermill": {
     "duration": 2.307079,
     "end_time": "2024-07-13T15:26:34.297673",
     "exception": false,
     "start_time": "2024-07-13T15:26:31.990594",
     "status": "completed"
    },
    "tags": []
   },
   "outputs": [],
   "source": [
    "import numpy as np\n",
    "import pandas as pd\n",
    "from sklearn.model_selection import train_test_split\n",
    "from sklearn.linear_model import LogisticRegression\n",
    "from sklearn.metrics import accuracy_score, precision_score, recall_score, confusion_matrix"
   ]
  },
  {
   "cell_type": "code",
   "execution_count": 2,
   "id": "fc7cc500",
   "metadata": {
    "execution": {
     "iopub.execute_input": "2024-07-13T15:26:34.307750Z",
     "iopub.status.busy": "2024-07-13T15:26:34.306600Z",
     "iopub.status.idle": "2024-07-13T15:26:34.311828Z",
     "shell.execute_reply": "2024-07-13T15:26:34.310741Z"
    },
    "papermill": {
     "duration": 0.012495,
     "end_time": "2024-07-13T15:26:34.314006",
     "exception": false,
     "start_time": "2024-07-13T15:26:34.301511",
     "status": "completed"
    },
    "tags": []
   },
   "outputs": [],
   "source": [
    "np.random.seed(42)"
   ]
  },
  {
   "cell_type": "code",
   "execution_count": 3,
   "id": "861f52a8",
   "metadata": {
    "execution": {
     "iopub.execute_input": "2024-07-13T15:26:34.322719Z",
     "iopub.status.busy": "2024-07-13T15:26:34.321830Z",
     "iopub.status.idle": "2024-07-13T15:26:34.329148Z",
     "shell.execute_reply": "2024-07-13T15:26:34.328322Z"
    },
    "papermill": {
     "duration": 0.014023,
     "end_time": "2024-07-13T15:26:34.331465",
     "exception": false,
     "start_time": "2024-07-13T15:26:34.317442",
     "status": "completed"
    },
    "tags": []
   },
   "outputs": [],
   "source": [
    "num_samples = 1000\n",
    "temperature = np.random.normal(75, 10, num_samples)\n",
    "pressure = np.random.normal(50, 5, num_samples)\n",
    "vibration = np.random.normal(1, 0.1, num_samples)\n",
    "maintenance_required = (temperature + pressure + vibration + np.random.normal(0, 5, num_samples) > 130).astype(int)"
   ]
  },
  {
   "cell_type": "code",
   "execution_count": 4,
   "id": "501cbb9c",
   "metadata": {
    "execution": {
     "iopub.execute_input": "2024-07-13T15:26:34.340192Z",
     "iopub.status.busy": "2024-07-13T15:26:34.339383Z",
     "iopub.status.idle": "2024-07-13T15:26:34.347691Z",
     "shell.execute_reply": "2024-07-13T15:26:34.346746Z"
    },
    "papermill": {
     "duration": 0.015021,
     "end_time": "2024-07-13T15:26:34.349916",
     "exception": false,
     "start_time": "2024-07-13T15:26:34.334895",
     "status": "completed"
    },
    "tags": []
   },
   "outputs": [],
   "source": [
    "data = pd.DataFrame({\n",
    "    'Temperature': temperature,\n",
    "    'Pressure': pressure,\n",
    "    'Vibration': vibration,\n",
    "    'MaintenanceRequired': maintenance_required\n",
    "})"
   ]
  },
  {
   "cell_type": "code",
   "execution_count": 5,
   "id": "e91fe3c0",
   "metadata": {
    "execution": {
     "iopub.execute_input": "2024-07-13T15:26:34.359155Z",
     "iopub.status.busy": "2024-07-13T15:26:34.358085Z",
     "iopub.status.idle": "2024-07-13T15:26:34.379118Z",
     "shell.execute_reply": "2024-07-13T15:26:34.378184Z"
    },
    "papermill": {
     "duration": 0.02787,
     "end_time": "2024-07-13T15:26:34.381364",
     "exception": false,
     "start_time": "2024-07-13T15:26:34.353494",
     "status": "completed"
    },
    "tags": []
   },
   "outputs": [],
   "source": [
    "X = data[['Temperature', 'Pressure', 'Vibration']]\n",
    "y = data['MaintenanceRequired']\n",
    "X_train, X_test, y_train, y_test = train_test_split(X, y, test_size=0.2, random_state=42)"
   ]
  },
  {
   "cell_type": "code",
   "execution_count": 6,
   "id": "1ee2380e",
   "metadata": {
    "execution": {
     "iopub.execute_input": "2024-07-13T15:26:34.389921Z",
     "iopub.status.busy": "2024-07-13T15:26:34.389269Z",
     "iopub.status.idle": "2024-07-13T15:26:34.417746Z",
     "shell.execute_reply": "2024-07-13T15:26:34.416488Z"
    },
    "papermill": {
     "duration": 0.03574,
     "end_time": "2024-07-13T15:26:34.420539",
     "exception": false,
     "start_time": "2024-07-13T15:26:34.384799",
     "status": "completed"
    },
    "tags": []
   },
   "outputs": [
    {
     "data": {
      "text/html": [
       "<style>#sk-container-id-1 {color: black;background-color: white;}#sk-container-id-1 pre{padding: 0;}#sk-container-id-1 div.sk-toggleable {background-color: white;}#sk-container-id-1 label.sk-toggleable__label {cursor: pointer;display: block;width: 100%;margin-bottom: 0;padding: 0.3em;box-sizing: border-box;text-align: center;}#sk-container-id-1 label.sk-toggleable__label-arrow:before {content: \"▸\";float: left;margin-right: 0.25em;color: #696969;}#sk-container-id-1 label.sk-toggleable__label-arrow:hover:before {color: black;}#sk-container-id-1 div.sk-estimator:hover label.sk-toggleable__label-arrow:before {color: black;}#sk-container-id-1 div.sk-toggleable__content {max-height: 0;max-width: 0;overflow: hidden;text-align: left;background-color: #f0f8ff;}#sk-container-id-1 div.sk-toggleable__content pre {margin: 0.2em;color: black;border-radius: 0.25em;background-color: #f0f8ff;}#sk-container-id-1 input.sk-toggleable__control:checked~div.sk-toggleable__content {max-height: 200px;max-width: 100%;overflow: auto;}#sk-container-id-1 input.sk-toggleable__control:checked~label.sk-toggleable__label-arrow:before {content: \"▾\";}#sk-container-id-1 div.sk-estimator input.sk-toggleable__control:checked~label.sk-toggleable__label {background-color: #d4ebff;}#sk-container-id-1 div.sk-label input.sk-toggleable__control:checked~label.sk-toggleable__label {background-color: #d4ebff;}#sk-container-id-1 input.sk-hidden--visually {border: 0;clip: rect(1px 1px 1px 1px);clip: rect(1px, 1px, 1px, 1px);height: 1px;margin: -1px;overflow: hidden;padding: 0;position: absolute;width: 1px;}#sk-container-id-1 div.sk-estimator {font-family: monospace;background-color: #f0f8ff;border: 1px dotted black;border-radius: 0.25em;box-sizing: border-box;margin-bottom: 0.5em;}#sk-container-id-1 div.sk-estimator:hover {background-color: #d4ebff;}#sk-container-id-1 div.sk-parallel-item::after {content: \"\";width: 100%;border-bottom: 1px solid gray;flex-grow: 1;}#sk-container-id-1 div.sk-label:hover label.sk-toggleable__label {background-color: #d4ebff;}#sk-container-id-1 div.sk-serial::before {content: \"\";position: absolute;border-left: 1px solid gray;box-sizing: border-box;top: 0;bottom: 0;left: 50%;z-index: 0;}#sk-container-id-1 div.sk-serial {display: flex;flex-direction: column;align-items: center;background-color: white;padding-right: 0.2em;padding-left: 0.2em;position: relative;}#sk-container-id-1 div.sk-item {position: relative;z-index: 1;}#sk-container-id-1 div.sk-parallel {display: flex;align-items: stretch;justify-content: center;background-color: white;position: relative;}#sk-container-id-1 div.sk-item::before, #sk-container-id-1 div.sk-parallel-item::before {content: \"\";position: absolute;border-left: 1px solid gray;box-sizing: border-box;top: 0;bottom: 0;left: 50%;z-index: -1;}#sk-container-id-1 div.sk-parallel-item {display: flex;flex-direction: column;z-index: 1;position: relative;background-color: white;}#sk-container-id-1 div.sk-parallel-item:first-child::after {align-self: flex-end;width: 50%;}#sk-container-id-1 div.sk-parallel-item:last-child::after {align-self: flex-start;width: 50%;}#sk-container-id-1 div.sk-parallel-item:only-child::after {width: 0;}#sk-container-id-1 div.sk-dashed-wrapped {border: 1px dashed gray;margin: 0 0.4em 0.5em 0.4em;box-sizing: border-box;padding-bottom: 0.4em;background-color: white;}#sk-container-id-1 div.sk-label label {font-family: monospace;font-weight: bold;display: inline-block;line-height: 1.2em;}#sk-container-id-1 div.sk-label-container {text-align: center;}#sk-container-id-1 div.sk-container {/* jupyter's `normalize.less` sets `[hidden] { display: none; }` but bootstrap.min.css set `[hidden] { display: none !important; }` so we also need the `!important` here to be able to override the default hidden behavior on the sphinx rendered scikit-learn.org. See: https://github.com/scikit-learn/scikit-learn/issues/21755 */display: inline-block !important;position: relative;}#sk-container-id-1 div.sk-text-repr-fallback {display: none;}</style><div id=\"sk-container-id-1\" class=\"sk-top-container\"><div class=\"sk-text-repr-fallback\"><pre>LogisticRegression()</pre><b>In a Jupyter environment, please rerun this cell to show the HTML representation or trust the notebook. <br />On GitHub, the HTML representation is unable to render, please try loading this page with nbviewer.org.</b></div><div class=\"sk-container\" hidden><div class=\"sk-item\"><div class=\"sk-estimator sk-toggleable\"><input class=\"sk-toggleable__control sk-hidden--visually\" id=\"sk-estimator-id-1\" type=\"checkbox\" checked><label for=\"sk-estimator-id-1\" class=\"sk-toggleable__label sk-toggleable__label-arrow\">LogisticRegression</label><div class=\"sk-toggleable__content\"><pre>LogisticRegression()</pre></div></div></div></div></div>"
      ],
      "text/plain": [
       "LogisticRegression()"
      ]
     },
     "execution_count": 6,
     "metadata": {},
     "output_type": "execute_result"
    }
   ],
   "source": [
    "model = LogisticRegression()\n",
    "model.fit(X_train, y_train)"
   ]
  },
  {
   "cell_type": "code",
   "execution_count": 7,
   "id": "285e644d",
   "metadata": {
    "execution": {
     "iopub.execute_input": "2024-07-13T15:26:34.430485Z",
     "iopub.status.busy": "2024-07-13T15:26:34.429730Z",
     "iopub.status.idle": "2024-07-13T15:26:34.436834Z",
     "shell.execute_reply": "2024-07-13T15:26:34.435654Z"
    },
    "papermill": {
     "duration": 0.014465,
     "end_time": "2024-07-13T15:26:34.439115",
     "exception": false,
     "start_time": "2024-07-13T15:26:34.424650",
     "status": "completed"
    },
    "tags": []
   },
   "outputs": [],
   "source": [
    "y_pred = model.predict(X_test)"
   ]
  },
  {
   "cell_type": "code",
   "execution_count": 8,
   "id": "bb874235",
   "metadata": {
    "execution": {
     "iopub.execute_input": "2024-07-13T15:26:34.448010Z",
     "iopub.status.busy": "2024-07-13T15:26:34.447639Z",
     "iopub.status.idle": "2024-07-13T15:26:34.460378Z",
     "shell.execute_reply": "2024-07-13T15:26:34.459427Z"
    },
    "papermill": {
     "duration": 0.019872,
     "end_time": "2024-07-13T15:26:34.462671",
     "exception": false,
     "start_time": "2024-07-13T15:26:34.442799",
     "status": "completed"
    },
    "tags": []
   },
   "outputs": [],
   "source": [
    "accuracy = accuracy_score(y_test, y_pred)\n",
    "precision = precision_score(y_test, y_pred)\n",
    "recall = recall_score(y_test, y_pred)\n",
    "confusion = confusion_matrix(y_test, y_pred)"
   ]
  },
  {
   "cell_type": "code",
   "execution_count": 9,
   "id": "aba6a130",
   "metadata": {
    "execution": {
     "iopub.execute_input": "2024-07-13T15:26:34.472281Z",
     "iopub.status.busy": "2024-07-13T15:26:34.471891Z",
     "iopub.status.idle": "2024-07-13T15:26:34.478268Z",
     "shell.execute_reply": "2024-07-13T15:26:34.476994Z"
    },
    "papermill": {
     "duration": 0.013732,
     "end_time": "2024-07-13T15:26:34.480568",
     "exception": false,
     "start_time": "2024-07-13T15:26:34.466836",
     "status": "completed"
    },
    "tags": []
   },
   "outputs": [
    {
     "name": "stdout",
     "output_type": "stream",
     "text": [
      "Accuracy: 0.89\n",
      "Precision: 0.84\n",
      "Recall: 0.84\n",
      "Confusion Matrix:\n",
      "[[120  11]\n",
      " [ 11  58]]\n"
     ]
    }
   ],
   "source": [
    "print(f'Accuracy: {accuracy:.2f}')\n",
    "print(f'Precision: {precision:.2f}')\n",
    "print(f'Recall: {recall:.2f}')\n",
    "print('Confusion Matrix:')\n",
    "print(confusion)"
   ]
  },
  {
   "cell_type": "code",
   "execution_count": 10,
   "id": "f19d3504",
   "metadata": {
    "execution": {
     "iopub.execute_input": "2024-07-13T15:26:34.490996Z",
     "iopub.status.busy": "2024-07-13T15:26:34.490025Z",
     "iopub.status.idle": "2024-07-13T15:26:34.496268Z",
     "shell.execute_reply": "2024-07-13T15:26:34.495027Z"
    },
    "papermill": {
     "duration": 0.013577,
     "end_time": "2024-07-13T15:26:34.498530",
     "exception": false,
     "start_time": "2024-07-13T15:26:34.484953",
     "status": "completed"
    },
    "tags": []
   },
   "outputs": [],
   "source": [
    "new_data = pd.DataFrame({\n",
    "    'Temperature': [80, 60, 90],\n",
    "    'Pressure': [55, 45, 60],\n",
    "    'Vibration': [1.1, 0.9, 1.2]\n",
    "})"
   ]
  },
  {
   "cell_type": "code",
   "execution_count": 11,
   "id": "ec1d848c",
   "metadata": {
    "execution": {
     "iopub.execute_input": "2024-07-13T15:26:34.507628Z",
     "iopub.status.busy": "2024-07-13T15:26:34.507247Z",
     "iopub.status.idle": "2024-07-13T15:26:34.514594Z",
     "shell.execute_reply": "2024-07-13T15:26:34.513348Z"
    },
    "papermill": {
     "duration": 0.014654,
     "end_time": "2024-07-13T15:26:34.517052",
     "exception": false,
     "start_time": "2024-07-13T15:26:34.502398",
     "status": "completed"
    },
    "tags": []
   },
   "outputs": [
    {
     "name": "stdout",
     "output_type": "stream",
     "text": [
      "Predictions: [1 0 1]\n"
     ]
    }
   ],
   "source": [
    "predictions = model.predict(new_data)\n",
    "print('Predictions:', predictions)"
   ]
  }
 ],
 "metadata": {
  "kaggle": {
   "accelerator": "none",
   "dataSources": [],
   "dockerImageVersionId": 30746,
   "isGpuEnabled": false,
   "isInternetEnabled": false,
   "language": "python",
   "sourceType": "notebook"
  },
  "kernelspec": {
   "display_name": "Python 3",
   "language": "python",
   "name": "python3"
  },
  "language_info": {
   "codemirror_mode": {
    "name": "ipython",
    "version": 3
   },
   "file_extension": ".py",
   "mimetype": "text/x-python",
   "name": "python",
   "nbconvert_exporter": "python",
   "pygments_lexer": "ipython3",
   "version": "3.10.13"
  },
  "papermill": {
   "default_parameters": {},
   "duration": 6.32627,
   "end_time": "2024-07-13T15:26:35.142078",
   "environment_variables": {},
   "exception": null,
   "input_path": "__notebook__.ipynb",
   "output_path": "__notebook__.ipynb",
   "parameters": {},
   "start_time": "2024-07-13T15:26:28.815808",
   "version": "2.5.0"
  }
 },
 "nbformat": 4,
 "nbformat_minor": 5
}
